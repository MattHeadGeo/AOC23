{
 "cells": [
  {
   "cell_type": "code",
   "execution_count": 43,
   "metadata": {},
   "outputs": [
    {
     "name": "stdout",
     "output_type": "stream",
     "text": [
      "['00100' '11110' '10110' '10111' '10101' '01111' '00111' '11100' '10000'\n",
      " '11001' '00010' '01010']\n"
     ]
    }
   ],
   "source": [
    "import numpy as np\n",
    "\n",
    "test = np.loadtxt('d3t.txt', dtype=np.ndarray)\n",
    "print(test)\n",
    "\n",
    "dat = np.loadtxt('d3.txt', dtype=np.ndarray)"
   ]
  },
  {
   "cell_type": "code",
   "execution_count": 44,
   "metadata": {},
   "outputs": [
    {
     "name": "stdout",
     "output_type": "stream",
     "text": [
      "gamma 100111000110 = 2502\n",
      "epsilon 011000111001 = 1593\n",
      "power = 3985686\n"
     ]
    }
   ],
   "source": [
    "nums = len(dat)\n",
    "digits = len(str(dat[0]))\n",
    "split = np.zeros([nums,digits])\n",
    "\n",
    "for i in np.arange(0, nums):\n",
    "    split[i,:] = [str(k) for k in str(dat[i])]\n",
    "\n",
    "count = np.zeros(digits)\n",
    "gamma = \"\"\n",
    "epsilon = \"\"\n",
    "\n",
    "for j in np.arange(0, digits):\n",
    "    count[j] = sum(split[:,j])\n",
    "    if count[j] > nums/2:\n",
    "        gamma +=str(1)\n",
    "        epsilon +=str(0)\n",
    "    else: \n",
    "        gamma +=str(0)\n",
    "        epsilon +=str(1)\n",
    "\n",
    "print(\"gamma\", gamma, \"=\", int(gamma,2))\n",
    "print(\"epsilon\", epsilon, \"=\", int(epsilon,2))\n",
    "print(\"power =\", int(gamma,2)*int(epsilon,2))"
   ]
  },
  {
   "cell_type": "code",
   "execution_count": 107,
   "metadata": {},
   "outputs": [
    {
     "name": "stdout",
     "output_type": "stream",
     "text": [
      "[[1. 0. 1. 0. 1. 1. 0. 1. 1. 1. 0. 1.]]\n",
      "[[0. 0. 1. 1. 1. 0. 0. 1. 0. 1. 1. 1.]]\n",
      "o2 101011011101 = 2781\n",
      "co2 001110010111 = 919\n",
      "life = 2555739\n"
     ]
    }
   ],
   "source": [
    "nums = len(dat)\n",
    "digits = len(str(dat[0]))\n",
    "split = np.zeros([len(dat),digits])\n",
    "\n",
    "for i in np.arange(0, nums):\n",
    "    split[i,:] = [str(k) for k in str(dat[i])]\n",
    "\n",
    "o2 = split\n",
    "co2 = split\n",
    "o2_bin = \"\"\n",
    "co2_bin = \"\"\n",
    "\n",
    "for j in np.arange(0, digits):\n",
    "    if len(o2) > 1:\n",
    "        count = sum(o2[:,j])\n",
    "        check = np.zeros([len(o2)])\n",
    "        if count >= len(o2)/2:\n",
    "            check[o2[:,j]==1] = 1\n",
    "            o2_bin += str(1)\n",
    "        else:\n",
    "            check[o2[:,j]==0] = 1\n",
    "            o2_bin += str(0)\n",
    "        o2 = np.delete(o2,check==0,0)\n",
    "    else:\n",
    "        if o2[:,j] == 1:\n",
    "            o2_bin += str(0)\n",
    "        else:\n",
    "            o2_bin += str(1)\n",
    "\n",
    "print(o2)\n",
    "\n",
    "for j in np.arange(0, digits):\n",
    "    if len(co2) > 1:\n",
    "        count = sum(co2[:,j])\n",
    "        check = np.zeros([len(co2)])\n",
    "        if count >= len(co2)/2:\n",
    "            check[co2[:,j]==1] = 1\n",
    "            co2_bin += str(0)\n",
    "        else:\n",
    "            check[co2[:,j]==0] = 1\n",
    "            co2_bin += str(1)\n",
    "        co2 = np.delete(co2,check==1,0)\n",
    "    else:\n",
    "        if co2[:,j] == 1:\n",
    "            co2_bin += str(1)\n",
    "        else:\n",
    "            co2_bin += str(0)\n",
    "\n",
    "print(co2)\n",
    "\n",
    "print(\"o2\", o2_bin, \"=\", int(o2_bin,2))\n",
    "print(\"co2\", co2_bin, \"=\", int(co2_bin,2))\n",
    "print(\"life =\", int(o2_bin,2)*int(co2_bin,2))"
   ]
  },
  {
   "cell_type": "code",
   "execution_count": null,
   "metadata": {},
   "outputs": [],
   "source": []
  }
 ],
 "metadata": {
  "interpreter": {
   "hash": "767d51c1340bd893661ea55ea3124f6de3c7a262a8b4abca0554b478b1e2ff90"
  },
  "kernelspec": {
   "display_name": "Python 2.7.16 64-bit",
   "language": "python",
   "name": "python3"
  },
  "language_info": {
   "codemirror_mode": {
    "name": "ipython",
    "version": 3
   },
   "file_extension": ".py",
   "mimetype": "text/x-python",
   "name": "python",
   "nbconvert_exporter": "python",
   "pygments_lexer": "ipython3",
   "version": "3.8.6"
  },
  "orig_nbformat": 4
 },
 "nbformat": 4,
 "nbformat_minor": 2
}
