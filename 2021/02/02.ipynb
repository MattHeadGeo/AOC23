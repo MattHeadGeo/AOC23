{
 "cells": [
  {
   "cell_type": "code",
   "execution_count": 24,
   "metadata": {},
   "outputs": [
    {
     "name": "stdout",
     "output_type": "stream",
     "text": [
      "[['forward' '5']\n",
      " ['down' '5']\n",
      " ['forward' '8']\n",
      " ['up' '3']\n",
      " ['down' '8']\n",
      " ['forward' '2']]\n"
     ]
    }
   ],
   "source": [
    "import numpy as np\n",
    "\n",
    "test = np.loadtxt('d2t.txt', dtype=np.ndarray)\n",
    "print(test)\n",
    "\n",
    "dat = np.loadtxt('d2.txt', dtype=np.ndarray)"
   ]
  },
  {
   "cell_type": "code",
   "execution_count": 25,
   "metadata": {},
   "outputs": [
    {
     "name": "stdout",
     "output_type": "stream",
     "text": [
      "1965 1182\n",
      "distance = 2322630\n"
     ]
    }
   ],
   "source": [
    "v = 0\n",
    "h = 0\n",
    "\n",
    "for i in np.arange(0, len(dat)):\n",
    "    if dat[i,0] == 'forward':\n",
    "        v = v + int(dat[i,1])\n",
    "    if dat[i,0] == 'down':\n",
    "        h = h + int(dat[i,1])\n",
    "    if dat[i,0] == 'up':\n",
    "        h = h - int(dat[i,1])\n",
    "print(v, h)\n",
    "print('distance = {}'.format(v*h))"
   ]
  },
  {
   "cell_type": "code",
   "execution_count": 31,
   "metadata": {},
   "outputs": [
    {
     "name": "stdout",
     "output_type": "stream",
     "text": [
      "1071386 1965\n",
      "distance = 2105273490\n"
     ]
    }
   ],
   "source": [
    "v = 0\n",
    "h = 0\n",
    "aim = 0\n",
    "\n",
    "for i in np.arange(0, len(dat)):\n",
    "    if dat[i,0] == 'forward':\n",
    "        h = h + int(dat[i,1])\n",
    "        v = v + (aim * int(dat[i,1]))\n",
    "    if dat[i,0] == 'down':\n",
    "        aim = aim + int(dat[i,1])\n",
    "    if dat[i,0] == 'up':\n",
    "        aim = aim - int(dat[i,1])\n",
    "print(v, h)\n",
    "print('distance = {}'.format(v*h))"
   ]
  }
 ],
 "metadata": {
  "interpreter": {
   "hash": "aee8b7b246df8f9039afb4144a1f6fd8d2ca17a180786b69acc140d282b71a49"
  },
  "kernelspec": {
   "display_name": "Python 3.8.6 64-bit",
   "language": "python",
   "name": "python3"
  },
  "language_info": {
   "name": "python",
   "version": "3.8.6"
  },
  "orig_nbformat": 4
 },
 "nbformat": 4,
 "nbformat_minor": 2
}
