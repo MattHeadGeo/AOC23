{
 "cells": [
  {
   "cell_type": "code",
   "execution_count": 87,
   "metadata": {},
   "outputs": [
    {
     "name": "stdout",
     "output_type": "stream",
     "text": [
      "['0,9', '5,9']\n"
     ]
    }
   ],
   "source": [
    "import numpy as np\n",
    "\n",
    "test = open('05t.txt', 'r').read()\n",
    "\n",
    "test_lines = test.split('\\n')\n",
    "lines = [line.split(' -> ') for line in test_lines]\n",
    "\n",
    "# dat_draw = np.loadtxt('04.txt', dtype=np.ndarray, delimiter=',', max_rows=1)\n",
    "# dat_boards = np.loadtxt('04.txt', dtype=np.ndarray, skiprows=1)"
   ]
  }
 ],
 "metadata": {
  "interpreter": {
   "hash": "aee8b7b246df8f9039afb4144a1f6fd8d2ca17a180786b69acc140d282b71a49"
  },
  "kernelspec": {
   "display_name": "Python 3.8.6 64-bit",
   "language": "python",
   "name": "python3"
  },
  "language_info": {
   "codemirror_mode": {
    "name": "ipython",
    "version": 3
   },
   "file_extension": ".py",
   "mimetype": "text/x-python",
   "name": "python",
   "nbconvert_exporter": "python",
   "pygments_lexer": "ipython3",
   "version": "3.8.6"
  },
  "orig_nbformat": 4
 },
 "nbformat": 4,
 "nbformat_minor": 2
}
