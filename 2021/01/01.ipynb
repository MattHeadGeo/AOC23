{
 "cells": [
  {
   "cell_type": "code",
   "execution_count": 2,
   "metadata": {},
   "outputs": [
    {
     "name": "stdout",
     "output_type": "stream",
     "text": [
      "2000\n",
      "10\n"
     ]
    }
   ],
   "source": [
    "import numpy as np\n",
    "\n",
    "dat = np.loadtxt('d1.txt',dtype=np.ndarray)\n",
    "print(len(dat))\n",
    "\n",
    "test = np.loadtxt('d1t.txt',dtype=np.ndarray)\n",
    "print(len(test))"
   ]
  },
  {
   "cell_type": "code",
   "execution_count": 3,
   "metadata": {},
   "outputs": [
    {
     "name": "stdout",
     "output_type": "stream",
     "text": [
      "1392\n"
     ]
    }
   ],
   "source": [
    "# check if depth is greater than previous\n",
    "\n",
    "count = 0\n",
    "\n",
    "for i in np.arange(1, len(dat)):\n",
    "    if dat[i] > dat[i-1]:\n",
    "        count = count + 1\n",
    "\n",
    "print(count)"
   ]
  },
  {
   "cell_type": "code",
   "execution_count": 4,
   "metadata": {},
   "outputs": [
    {
     "name": "stdout",
     "output_type": "stream",
     "text": [
      "1392\n"
     ]
    }
   ],
   "source": [
    "# as above, but with three-measurement sliding window\n",
    "\n",
    "count = 0\n",
    "\n",
    "for i in np.arange(1, len(dat)): # from 1 to ignore the first reading\n",
    "    j = i-1\n",
    "    x = np.sum(dat[i:i+3])\n",
    "    y = np.sum(dat[j:j+3])\n",
    "    if x > y:\n",
    "        #print(x,y)\n",
    "        count = count + 1\n",
    "\n",
    "print(count)"
   ]
  }
 ],
 "metadata": {
  "interpreter": {
   "hash": "aee8b7b246df8f9039afb4144a1f6fd8d2ca17a180786b69acc140d282b71a49"
  },
  "kernelspec": {
   "display_name": "Python 3.8.6 64-bit",
   "language": "python",
   "name": "python3"
  },
  "language_info": {
   "codemirror_mode": {
    "name": "ipython",
    "version": 3
   },
   "file_extension": ".py",
   "mimetype": "text/x-python",
   "name": "python",
   "nbconvert_exporter": "python",
   "pygments_lexer": "ipython3",
   "version": "3.8.6"
  },
  "orig_nbformat": 4
 },
 "nbformat": 4,
 "nbformat_minor": 2
}
