{
 "cells": [
  {
   "cell_type": "code",
   "execution_count": 2,
   "metadata": {},
   "outputs": [
    {
     "name": "stdout",
     "output_type": "stream",
     "text": [
      "55172\n"
     ]
    }
   ],
   "source": [
    "# Puzzle 1\n",
    "\n",
    "with open('input.txt') as f:\n",
    "    input = [line.split('\\n')[0] for line in f]\n",
    "\n",
    "calibration_value = []\n",
    "\n",
    "for line in input:\n",
    "    digits = []\n",
    "    split = [c for c in line]\n",
    "    for element in split:\n",
    "        try:\n",
    "            digits.append(int(element))\n",
    "        except ValueError:\n",
    "            pass\n",
    "    combined_digits = str(digits[0]) + str(digits[-1])\n",
    "    calibration_value.append(int(combined_digits))\n",
    "\n",
    "calibration_sum = sum(calibration_value)\n",
    "print(calibration_sum)"
   ]
  },
  {
   "cell_type": "code",
   "execution_count": 8,
   "metadata": {},
   "outputs": [
    {
     "name": "stdout",
     "output_type": "stream",
     "text": [
      "54925\n"
     ]
    }
   ],
   "source": [
    "# Puzzle 2\n",
    "\n",
    "with open('input.txt') as f:\n",
    "    input = [line.split('\\n')[0] for line in f]\n",
    "\n",
    "# this approach maintains overlapping characters\n",
    "numbers = {'one': 'o1e', 'two': 't2o', 'three': 't3e', 'four': 'f4r', 'five': 'f5e', 'six': 's6x', 'seven': 's7n', 'eight': 'e8t', 'nine': 'n9e'}\n",
    "words = list(numbers.keys())\n",
    "\n",
    "calibration_value = []\n",
    "\n",
    "for line in input:\n",
    "    indices = [idx for idx, num in enumerate(words) if num in line]\n",
    "    numbers_found = [words[idx] for idx in indices]\n",
    "    locations = [line.find(words[idx]) for idx in indices]\n",
    "\n",
    "    Z = [x for _, x in sorted(zip(locations, numbers_found))]\n",
    "    for i in range(len(Z)):\n",
    "        line = line.replace(str(Z[i]), str(numbers[Z[i]]))\n",
    "    \n",
    "    split = [c for c in line]\n",
    "    \n",
    "    digits = []\n",
    "    for element in split:\n",
    "        try:\n",
    "            digits.append(int(element))\n",
    "        except ValueError:\n",
    "            pass\n",
    "        \n",
    "    combined_digits = str(digits[0]) + str(digits[-1])\n",
    "    calibration_value.append(int(combined_digits))\n",
    "\n",
    "calibration_sum = sum(calibration_value)\n",
    "print(calibration_sum)"
   ]
  }
 ],
 "metadata": {
  "kernelspec": {
   "display_name": "venv",
   "language": "python",
   "name": "python3"
  },
  "language_info": {
   "codemirror_mode": {
    "name": "ipython",
    "version": 3
   },
   "file_extension": ".py",
   "mimetype": "text/x-python",
   "name": "python",
   "nbconvert_exporter": "python",
   "pygments_lexer": "ipython3",
   "version": "3.11.5"
  }
 },
 "nbformat": 4,
 "nbformat_minor": 2
}
