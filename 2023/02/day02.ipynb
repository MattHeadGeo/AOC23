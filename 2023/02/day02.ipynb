{
 "cells": [
  {
   "cell_type": "code",
   "execution_count": 63,
   "metadata": {},
   "outputs": [],
   "source": [
    "with open('input.txt') as f:\n",
    "    input = [line.split('\\n')[0] for line in f]\n",
    "\n",
    "test = [\n",
    "        \"Game 1: 3 blue, 4 red; 1 red, 2 green, 6 blue; 2 green\",\n",
    "        \"Game 2: 1 blue, 2 green; 3 green, 4 blue, 1 red; 1 green, 1 blue\",\n",
    "        \"Game 3: 8 green, 6 blue, 20 red; 5 blue, 4 red, 13 green; 5 green, 1 red\",\n",
    "        \"Game 4: 1 green, 3 red, 6 blue; 3 green, 6 red; 3 green, 15 blue, 14 red\",\n",
    "        \"Game 5: 6 red, 1 blue, 3 green; 2 blue, 1 red, 2 green\"\n",
    "        ]"
   ]
  },
  {
   "cell_type": "code",
   "execution_count": 70,
   "metadata": {},
   "outputs": [
    {
     "name": "stdout",
     "output_type": "stream",
     "text": [
      "2505\n"
     ]
    }
   ],
   "source": [
    "# Puzzle 1\n",
    "\n",
    "color_limits = {\"red\": 12, \"green\": 13, \"blue\": 14}\n",
    "\n",
    "exceed_sum = 0\n",
    "game_sum = 0\n",
    "\n",
    "for id, line in enumerate(input):\n",
    "    id = id + 1\n",
    "    sets = line.replace(':', ';').split(';')[1:]\n",
    "    exceed = False\n",
    "    for i, set in enumerate(sets):\n",
    "        for color in list(color_limits.keys()):\n",
    "            idx = set.find(color)\n",
    "            if idx > 0:\n",
    "                num = str(set[idx-3]) + str(set[idx-2]) # combine two digits, or space + digit\n",
    "                if int(num) > color_limits[color]:\n",
    "                    exceed = True\n",
    "    game_sum += id\n",
    "    if exceed:\n",
    "        exceed_sum += id\n",
    "\n",
    "print(game_sum - exceed_sum)"
   ]
  },
  {
   "cell_type": "code",
   "execution_count": 74,
   "metadata": {},
   "outputs": [
    {
     "name": "stdout",
     "output_type": "stream",
     "text": [
      "70265\n"
     ]
    }
   ],
   "source": [
    "# Puzzle 2\n",
    "\n",
    "game_sum = 0\n",
    "\n",
    "for id, line in enumerate(input):\n",
    "    color_limits = {\"red\": 0, \"green\": 0, \"blue\": 0}\n",
    "    sets = line.replace(':', ';').split(';')[1:]\n",
    "    for i, set in enumerate(sets):\n",
    "        for color in list(color_limits.keys()):\n",
    "            idx = set.find(color)\n",
    "            if idx > 0:\n",
    "                num = str(set[idx-3]) + str(set[idx-2]) # combine two digits, or space + digit\n",
    "                if int(num) > color_limits[color]:\n",
    "                    color_limits[color] = int(num)\n",
    "                \n",
    "    power = color_limits['red'] * color_limits['green'] * color_limits['blue']\n",
    "    game_sum += power\n",
    "    \n",
    "print(game_sum)"
   ]
  }
 ],
 "metadata": {
  "kernelspec": {
   "display_name": "venv",
   "language": "python",
   "name": "python3"
  },
  "language_info": {
   "codemirror_mode": {
    "name": "ipython",
    "version": 3
   },
   "file_extension": ".py",
   "mimetype": "text/x-python",
   "name": "python",
   "nbconvert_exporter": "python",
   "pygments_lexer": "ipython3",
   "version": "3.11.5"
  }
 },
 "nbformat": 4,
 "nbformat_minor": 2
}
